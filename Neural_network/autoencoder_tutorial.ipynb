{
 "cells": [
  {
   "cell_type": "markdown",
   "metadata": {},
   "source": [
    "# Autoencoder\n",
    "\n",
    "Autoencoders are a great contribution to `Unsupervised Learning`; the ability to learn without label data.  \n",
    "Reference: https://blog.keras.io/building-autoencoders-in-keras.html"
   ]
  },
  {
   "cell_type": "code",
   "execution_count": 1,
   "metadata": {},
   "outputs": [
    {
     "name": "stderr",
     "output_type": "stream",
     "text": [
      "/home/unknown/anaconda2/envs/kr/lib/python3.6/site-packages/h5py/__init__.py:36: FutureWarning: Conversion of the second argument of issubdtype from `float` to `np.floating` is deprecated. In future, it will be treated as `np.float64 == np.dtype(float).type`.\n",
      "  from ._conv import register_converters as _register_converters\n",
      "Using TensorFlow backend.\n"
     ]
    }
   ],
   "source": [
    "from keras.layers import Input, Dense\n",
    "from keras.models import Model\n",
    "\n",
    "import matplotlib.pyplot as plt\n",
    "%matplotlib inline"
   ]
  },
  {
   "cell_type": "code",
   "execution_count": 2,
   "metadata": {},
   "outputs": [],
   "source": [
    "# this is the size of our encoded representations\n",
    "encoding_dim = 32  # 32 floats -> compression of factor 24.5, assuming the input is 784 floats\n",
    "\n",
    "# this is our input placeholder\n",
    "input_img = Input(shape=(784,))\n",
    "# \"encoded\" is the encoded representation of the input\n",
    "encoded = Dense(encoding_dim, activation='relu')(input_img)\n",
    "# \"decoded\" is the lossy reconstruction of the input\n",
    "decoded = Dense(784, activation='sigmoid')(encoded)\n",
    "\n",
    "# this model maps an input to its reconstruction\n",
    "autoencoder = Model(input_img, decoded)"
   ]
  },
  {
   "cell_type": "code",
   "execution_count": 3,
   "metadata": {},
   "outputs": [],
   "source": [
    "# this model maps an input to its encoded representation\n",
    "encoder = Model(input_img, encoded)\n",
    "# create a placeholder for an encoded (32-dimensional) input\n",
    "encoded_input = Input(shape=(encoding_dim,))\n",
    "# retrieve the last layer of the autoencoder model\n",
    "decoder_layer = autoencoder.layers[-1]\n",
    "# create the decoder model\n",
    "decoder = Model(encoded_input, decoder_layer(encoded_input))"
   ]
  },
  {
   "cell_type": "code",
   "execution_count": 4,
   "metadata": {},
   "outputs": [],
   "source": [
    "autoencoder.compile(optimizer='adadelta', loss='binary_crossentropy')"
   ]
  },
  {
   "cell_type": "markdown",
   "metadata": {},
   "source": [
    "## Data Preparation\n",
    "We are using MNIST digits"
   ]
  },
  {
   "cell_type": "code",
   "execution_count": 5,
   "metadata": {},
   "outputs": [],
   "source": [
    "from keras.datasets import mnist\n",
    "import numpy as np\n",
    "(x_train, _), (x_test, _) = mnist.load_data()"
   ]
  },
  {
   "cell_type": "markdown",
   "metadata": {},
   "source": [
    "### We will normalize all values between 0 and 1 and we will flatten the 28x28 images into vectors of size 784."
   ]
  },
  {
   "cell_type": "code",
   "execution_count": 6,
   "metadata": {},
   "outputs": [
    {
     "name": "stdout",
     "output_type": "stream",
     "text": [
      "(60000, 784)\n",
      "(10000, 784)\n"
     ]
    }
   ],
   "source": [
    "x_train = x_train.astype('float32') / 255.\n",
    "x_test = x_test.astype('float32') / 255.\n",
    "x_train = x_train.reshape((len(x_train), np.prod(x_train.shape[1:])))\n",
    "x_test = x_test.reshape((len(x_test), np.prod(x_test.shape[1:])))\n",
    "print(x_train.shape)\n",
    "print(x_test.shape)"
   ]
  },
  {
   "cell_type": "markdown",
   "metadata": {},
   "source": [
    "### Let's train our `Autoencoder` for 50 epochs"
   ]
  },
  {
   "cell_type": "code",
   "execution_count": 7,
   "metadata": {},
   "outputs": [
    {
     "name": "stdout",
     "output_type": "stream",
     "text": [
      "Train on 60000 samples, validate on 10000 samples\n",
      "Epoch 1/50\n",
      "60000/60000 [==============================] - 2s 35us/step - loss: 0.3596 - val_loss: 0.2710\n",
      "Epoch 2/50\n",
      "60000/60000 [==============================] - 2s 32us/step - loss: 0.2636 - val_loss: 0.2525\n",
      "Epoch 3/50\n",
      "60000/60000 [==============================] - 2s 32us/step - loss: 0.2421 - val_loss: 0.2302\n",
      "Epoch 4/50\n",
      "60000/60000 [==============================] - 2s 33us/step - loss: 0.2226 - val_loss: 0.2131\n",
      "Epoch 5/50\n",
      "60000/60000 [==============================] - 2s 33us/step - loss: 0.2079 - val_loss: 0.2003\n",
      "Epoch 6/50\n",
      "60000/60000 [==============================] - 2s 32us/step - loss: 0.1964 - val_loss: 0.1899\n",
      "Epoch 7/50\n",
      "60000/60000 [==============================] - 2s 32us/step - loss: 0.1871 - val_loss: 0.1816\n",
      "Epoch 8/50\n",
      "60000/60000 [==============================] - 2s 32us/step - loss: 0.1796 - val_loss: 0.1748\n",
      "Epoch 9/50\n",
      "60000/60000 [==============================] - 2s 32us/step - loss: 0.1734 - val_loss: 0.1692\n",
      "Epoch 10/50\n",
      "60000/60000 [==============================] - 2s 32us/step - loss: 0.1681 - val_loss: 0.1643\n",
      "Epoch 11/50\n",
      "60000/60000 [==============================] - 2s 32us/step - loss: 0.1635 - val_loss: 0.1599\n",
      "Epoch 12/50\n",
      "60000/60000 [==============================] - 2s 32us/step - loss: 0.1593 - val_loss: 0.1559\n",
      "Epoch 13/50\n",
      "60000/60000 [==============================] - 2s 33us/step - loss: 0.1554 - val_loss: 0.1522\n",
      "Epoch 14/50\n",
      "60000/60000 [==============================] - 2s 34us/step - loss: 0.1519 - val_loss: 0.1488\n",
      "Epoch 15/50\n",
      "60000/60000 [==============================] - 2s 32us/step - loss: 0.1486 - val_loss: 0.1455\n",
      "Epoch 16/50\n",
      "60000/60000 [==============================] - 2s 32us/step - loss: 0.1455 - val_loss: 0.1427\n",
      "Epoch 17/50\n",
      "60000/60000 [==============================] - 2s 34us/step - loss: 0.1427 - val_loss: 0.1398\n",
      "Epoch 18/50\n",
      "60000/60000 [==============================] - 2s 32us/step - loss: 0.1400 - val_loss: 0.1372\n",
      "Epoch 19/50\n",
      "60000/60000 [==============================] - 2s 32us/step - loss: 0.1375 - val_loss: 0.1348\n",
      "Epoch 20/50\n",
      "60000/60000 [==============================] - 2s 32us/step - loss: 0.1351 - val_loss: 0.1324\n",
      "Epoch 21/50\n",
      "60000/60000 [==============================] - 2s 32us/step - loss: 0.1327 - val_loss: 0.1300\n",
      "Epoch 22/50\n",
      "60000/60000 [==============================] - 2s 32us/step - loss: 0.1305 - val_loss: 0.1278\n",
      "Epoch 23/50\n",
      "60000/60000 [==============================] - 2s 32us/step - loss: 0.1283 - val_loss: 0.1257\n",
      "Epoch 24/50\n",
      "60000/60000 [==============================] - 2s 32us/step - loss: 0.1263 - val_loss: 0.1236\n",
      "Epoch 25/50\n",
      "60000/60000 [==============================] - 2s 32us/step - loss: 0.1243 - val_loss: 0.1217\n",
      "Epoch 26/50\n",
      "60000/60000 [==============================] - 2s 32us/step - loss: 0.1224 - val_loss: 0.1199\n",
      "Epoch 27/50\n",
      "60000/60000 [==============================] - 2s 32us/step - loss: 0.1206 - val_loss: 0.1180\n",
      "Epoch 28/50\n",
      "60000/60000 [==============================] - 2s 33us/step - loss: 0.1189 - val_loss: 0.1164\n",
      "Epoch 29/50\n",
      "60000/60000 [==============================] - 2s 32us/step - loss: 0.1173 - val_loss: 0.1148\n",
      "Epoch 30/50\n",
      "60000/60000 [==============================] - 2s 32us/step - loss: 0.1158 - val_loss: 0.1134\n",
      "Epoch 31/50\n",
      "60000/60000 [==============================] - 2s 32us/step - loss: 0.1144 - val_loss: 0.1121\n",
      "Epoch 32/50\n",
      "60000/60000 [==============================] - 2s 32us/step - loss: 0.1131 - val_loss: 0.1108\n",
      "Epoch 33/50\n",
      "60000/60000 [==============================] - 2s 32us/step - loss: 0.1120 - val_loss: 0.1097\n",
      "Epoch 34/50\n",
      "60000/60000 [==============================] - 2s 32us/step - loss: 0.1109 - val_loss: 0.1087\n",
      "Epoch 35/50\n",
      "60000/60000 [==============================] - 2s 35us/step - loss: 0.1099 - val_loss: 0.1077\n",
      "Epoch 36/50\n",
      "60000/60000 [==============================] - 2s 40us/step - loss: 0.1090 - val_loss: 0.1069\n",
      "Epoch 37/50\n",
      "60000/60000 [==============================] - 2s 37us/step - loss: 0.1082 - val_loss: 0.1061\n",
      "Epoch 38/50\n",
      "60000/60000 [==============================] - 2s 32us/step - loss: 0.1074 - val_loss: 0.1053\n",
      "Epoch 39/50\n",
      "60000/60000 [==============================] - 2s 32us/step - loss: 0.1067 - val_loss: 0.1047\n",
      "Epoch 40/50\n",
      "60000/60000 [==============================] - 2s 32us/step - loss: 0.1060 - val_loss: 0.1040\n",
      "Epoch 41/50\n",
      "60000/60000 [==============================] - 2s 32us/step - loss: 0.1054 - val_loss: 0.1034\n",
      "Epoch 42/50\n",
      "60000/60000 [==============================] - 2s 34us/step - loss: 0.1049 - val_loss: 0.1029\n",
      "Epoch 43/50\n",
      "60000/60000 [==============================] - 2s 33us/step - loss: 0.1043 - val_loss: 0.1024\n",
      "Epoch 44/50\n",
      "60000/60000 [==============================] - 2s 32us/step - loss: 0.1038 - val_loss: 0.1019\n",
      "Epoch 45/50\n",
      "60000/60000 [==============================] - 2s 32us/step - loss: 0.1034 - val_loss: 0.1015\n",
      "Epoch 46/50\n",
      "60000/60000 [==============================] - 2s 32us/step - loss: 0.1029 - val_loss: 0.1011\n",
      "Epoch 47/50\n",
      "60000/60000 [==============================] - 2s 32us/step - loss: 0.1025 - val_loss: 0.1007\n",
      "Epoch 48/50\n",
      "60000/60000 [==============================] - 2s 32us/step - loss: 0.1022 - val_loss: 0.1003\n",
      "Epoch 49/50\n",
      "60000/60000 [==============================] - 2s 32us/step - loss: 0.1018 - val_loss: 0.1000\n",
      "Epoch 50/50\n",
      "60000/60000 [==============================] - 2s 32us/step - loss: 0.1015 - val_loss: 0.0997\n"
     ]
    },
    {
     "data": {
      "text/plain": [
       "<keras.callbacks.History at 0x7f706d4e99b0>"
      ]
     },
     "execution_count": 7,
     "metadata": {},
     "output_type": "execute_result"
    }
   ],
   "source": [
    "autoencoder.fit(x_train, x_train,\n",
    "                epochs=50,\n",
    "                batch_size=256,\n",
    "                shuffle=True,\n",
    "                validation_data=(x_test, x_test))"
   ]
  },
  {
   "cell_type": "code",
   "execution_count": 8,
   "metadata": {},
   "outputs": [],
   "source": [
    "# encode and decode some digits\n",
    "# note that we take them from the *test* set\n",
    "encoded_imgs = encoder.predict(x_test)\n",
    "decoded_imgs = decoder.predict(encoded_imgs)"
   ]
  },
  {
   "cell_type": "code",
   "execution_count": 9,
   "metadata": {},
   "outputs": [
    {
     "data": {
      "image/png": "[encoded data removed]",
      "text/plain": [
       "<Figure size 1440x288 with 20 Axes>"
      ]
     },
     "metadata": {},
     "output_type": "display_data"
    }
   ],
   "source": [
    "n = 10  # how many digits we will display\n",
    "plt.figure(figsize=(20, 4))\n",
    "for i in range(n):\n",
    "    # display original\n",
    "    ax = plt.subplot(2, n, i + 1)\n",
    "    plt.imshow(x_test[i].reshape(28, 28))\n",
    "    plt.gray()\n",
    "    ax.get_xaxis().set_visible(False)\n",
    "    ax.get_yaxis().set_visible(False)\n",
    "\n",
    "    # display reconstruction\n",
    "    ax = plt.subplot(2, n, i + 1 + n)\n",
    "    plt.imshow(decoded_imgs[i].reshape(28, 28))\n",
    "    plt.gray()\n",
    "    ax.get_xaxis().set_visible(False)\n",
    "    ax.get_yaxis().set_visible(False)\n",
    "plt.show()"
   ]
  },
  {
   "cell_type": "markdown",
   "metadata": {},
   "source": [
    "### Top row: Original digits\n",
    "### Bottom row: Regenerated digits"
   ]
  }
 ],
 "metadata": {
  "kernelspec": {
   "display_name": "Python 3",
   "language": "python",
   "name": "python3"
  },
  "language_info": {
   "codemirror_mode": {
    "name": "ipython",
    "version": 3
   },
   "file_extension": ".py",
   "mimetype": "text/x-python",
   "name": "python",
   "nbconvert_exporter": "python",
   "pygments_lexer": "ipython3",
   "version": "3.6.5"
  }
 },
 "nbformat": 4,
 "nbformat_minor": 2
}
