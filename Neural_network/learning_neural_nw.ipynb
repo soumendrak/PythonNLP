{
 "cells": [
  {
   "cell_type": "markdown",
   "metadata": {},
   "source": [
    "# A basic Neural network\n",
    "### Based on \n",
    "https://towardsdatascience.com/how-to-build-your-own-neural-network-from-scratch-in-python-68998a08e4f6"
   ]
  },
  {
   "cell_type": "code",
   "execution_count": 1,
   "metadata": {},
   "outputs": [],
   "source": [
    "import numpy as np"
   ]
  },
  {
   "cell_type": "code",
   "execution_count": 2,
   "metadata": {},
   "outputs": [],
   "source": [
    "def sigmoid(x):\n",
    "    \"\"\"\n",
    "    Activation function\n",
    "    \"\"\"\n",
    "    return 1.0/(1+ np.exp(-x))"
   ]
  },
  {
   "cell_type": "code",
   "execution_count": 3,
   "metadata": {},
   "outputs": [],
   "source": [
    "def sigmoid_derivative(x):\n",
    "    \"\"\"\n",
    "    Find the minima\n",
    "    \"\"\"\n",
    "    return x * (1.0 - x)"
   ]
  },
  {
   "cell_type": "code",
   "execution_count": 4,
   "metadata": {},
   "outputs": [],
   "source": [
    "class NeuralNetwork:\n",
    "    \"\"\"\n",
    "    Basic Neural network\n",
    "    \"\"\"\n",
    "    def __init__(self, x, y):\n",
    "        self.input      = x\n",
    "        self.y          = y\n",
    "        # Two weights cause one hidden layer and one input layer\n",
    "        # The shape dimension is to help in matrix multiplication in feedforward\n",
    "        self.weights1   = np.random.rand(self.input.shape[1],y.shape[0])\n",
    "        self.weights2   = np.random.rand(y.shape[0],1)\n",
    "        self.output     = np.zeros(self.y.shape) # sample output template\n",
    "        self.epoch_cnt  = 0\n",
    "\n",
    "    def feedforward(self):\n",
    "        \"\"\"\n",
    "        Calculate the node values of the layers by doing dot product\n",
    "        \"\"\"\n",
    "        self.layer1 = sigmoid(np.dot(self.input, self.weights1))\n",
    "        self.output = sigmoid(np.dot(self.layer1, self.weights2))\n",
    "        self.epoch_cnt += 1\n",
    "#         if self.epoch_cnt % 1000 == 0:\n",
    "#             # Print the progress values in every 1000 iterations\n",
    "#             print('\\n\\nFeed forward----------------->')\n",
    "#             print('layer1: ', self.layer1)\n",
    "#             print('output: {}'.format(self.output))\n",
    "\n",
    "    def backprop(self):\n",
    "        \"\"\"\n",
    "        Back propagate the feedback to all input layers\n",
    "        \"\"\"\n",
    "        # application of the chain rule to find derivative of the loss function\n",
    "        # with respect to weights2 and weights1\n",
    "        loss_function = 2*(self.y - self.output) * sigmoid_derivative(self.output)\n",
    "        d_weights2 = np.dot(self.layer1.T, loss_function)\n",
    "        d_weights1 = np.dot(self.input.T,  (np.dot(loss_function, self.weights2.T) * sigmoid_derivative(self.layer1)))\n",
    "\n",
    "        # update the weights with the derivative (slope) of the loss function\n",
    "        self.weights1 += d_weights1\n",
    "        self.weights2 += d_weights2\n",
    "        \n",
    "#         if self.epoch_cnt % 1000 == 0:\n",
    "#             # Print the progress values in every 1000 iterations or epochs\n",
    "#             print('<--------------Back propagation')\n",
    "#             print('Weights-1: \\n {}'.format(self.weights1))\n",
    "#             print('Weights-2: \\n {}'.format(self.weights2))\n",
    "#             print('#'*100)\n"
   ]
  },
  {
   "cell_type": "markdown",
   "metadata": {},
   "source": [
    "## Main function"
   ]
  },
  {
   "cell_type": "code",
   "execution_count": 5,
   "metadata": {},
   "outputs": [],
   "source": [
    "# Input array\n",
    "X = np.array([[0,0,1],\n",
    "              [0,1,1],\n",
    "              [1,0,1],\n",
    "              [1,1,1]])"
   ]
  },
  {
   "cell_type": "code",
   "execution_count": 6,
   "metadata": {},
   "outputs": [],
   "source": [
    "# Actual output array\n",
    "y = np.array([[0],[1],[1],[0]])"
   ]
  },
  {
   "cell_type": "code",
   "execution_count": 7,
   "metadata": {},
   "outputs": [],
   "source": [
    "# Neural network object preparation\n",
    "nn = NeuralNetwork(X,y)"
   ]
  },
  {
   "cell_type": "code",
   "execution_count": 8,
   "metadata": {},
   "outputs": [],
   "source": [
    "# Loop through the Neural network based on the epoch value\n",
    "epoch = 50000\n",
    "for i in range(epoch):\n",
    "    nn.feedforward()\n",
    "    nn.backprop()"
   ]
  },
  {
   "cell_type": "code",
   "execution_count": 9,
   "metadata": {},
   "outputs": [
    {
     "name": "stdout",
     "output_type": "stream",
     "text": [
      "[[0.00101577]\n",
      " [0.99573962]\n",
      " [0.99575358]\n",
      " [0.00529375]]\n"
     ]
    }
   ],
   "source": [
    "print(nn.output)"
   ]
  },
  {
   "cell_type": "code",
   "execution_count": null,
   "metadata": {},
   "outputs": [],
   "source": []
  }
 ],
 "metadata": {
  "kernelspec": {
   "display_name": "Python 3",
   "language": "python",
   "name": "python3"
  },
  "language_info": {
   "codemirror_mode": {
    "name": "ipython",
    "version": 3
   },
   "file_extension": ".py",
   "mimetype": "text/x-python",
   "name": "python",
   "nbconvert_exporter": "python",
   "pygments_lexer": "ipython3",
   "version": "3.6.5"
  }
 },
 "nbformat": 4,
 "nbformat_minor": 2
}
